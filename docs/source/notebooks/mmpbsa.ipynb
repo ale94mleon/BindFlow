{
 "cells": [
  {
   "cell_type": "markdown",
   "metadata": {},
   "source": [
    "# MM(PB/GB)SA tutorial\n",
    "\n",
    "Here we will demonstrate how to execute a MM(PB/GB)SA calculation on the CyclophilinD system. All the data is on the "
   ]
  }
 ],
 "metadata": {
  "language_info": {
   "name": "python"
  }
 },
 "nbformat": 4,
 "nbformat_minor": 2
}
